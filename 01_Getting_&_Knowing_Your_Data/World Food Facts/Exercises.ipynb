{
  "cells": [
    {
      "cell_type": "markdown",
      "metadata": {
        "id": "3TtaHia_bbyf"
      },
      "source": [
        "# Exercise 1"
      ]
    },
    {
      "cell_type": "markdown",
      "metadata": {
        "id": "mVdnCW35bbyn"
      },
      "source": [
        "### Step 1. Go to https://www.kaggle.com/openfoodfacts/world-food-facts/data"
      ]
    },
    {
      "cell_type": "markdown",
      "metadata": {
        "id": "V8nuZgC6bbyo"
      },
      "source": [
        "### Step 2. Download the dataset to your computer and unzip it."
      ]
    },
    {
      "cell_type": "markdown",
      "metadata": {
        "id": "bVGXB-3Gbbyp"
      },
      "source": [
        "### Step 3. Use the tsv file and assign it to a dataframe called food"
      ]
    },
    {
      "cell_type": "code",
      "execution_count": 10,
      "metadata": {
        "collapsed": true,
        "colab": {
          "base_uri": "https://localhost:8080/"
        },
        "id": "YIJIQ7k0bbyq",
        "outputId": "7f809997-b5d5-404d-b122-f243b1e2dacd"
      },
      "outputs": [
        {
          "output_type": "stream",
          "name": "stderr",
          "text": [
            "/tmp/ipython-input-2068244704.py:3: DtypeWarning: Columns (17,18,19,20,21,22,23,24,25,26,28,29,30,35,37,38,39,48) have mixed types. Specify dtype option on import or set low_memory=False.\n",
            "  food=pd.read_csv(path,sep='\\t')\n"
          ]
        }
      ],
      "source": [
        "import pandas as pd\n",
        "path='/content/en.openfoodfacts.org.products.tsv'\n",
        "food=pd.read_csv(path,sep='\\t')"
      ]
    },
    {
      "cell_type": "markdown",
      "metadata": {
        "id": "6hceJyM9bbyr"
      },
      "source": [
        "### Step 4. See the first 5 entries"
      ]
    },
    {
      "cell_type": "code",
      "execution_count": 11,
      "metadata": {
        "collapsed": true,
        "colab": {
          "base_uri": "https://localhost:8080/",
          "height": 412
        },
        "id": "Q97b9wSobbys",
        "outputId": "366d9c4a-06c4-44f8-f719-d1c90b8092cf"
      },
      "outputs": [
        {
          "output_type": "execute_result",
          "data": {
            "text/plain": [
              "    code                                                url  \\\n",
              "0   3087  http://world-en.openfoodfacts.org/product/0000...   \n",
              "1   4530  http://world-en.openfoodfacts.org/product/0000...   \n",
              "2   4559  http://world-en.openfoodfacts.org/product/0000...   \n",
              "3  16087  http://world-en.openfoodfacts.org/product/0000...   \n",
              "4  16094  http://world-en.openfoodfacts.org/product/0000...   \n",
              "\n",
              "                      creator   created_t      created_datetime  \\\n",
              "0  openfoodfacts-contributors  1474103866  2016-09-17T09:17:46Z   \n",
              "1             usda-ndb-import  1489069957  2017-03-09T14:32:37Z   \n",
              "2             usda-ndb-import  1489069957  2017-03-09T14:32:37Z   \n",
              "3             usda-ndb-import  1489055731  2017-03-09T10:35:31Z   \n",
              "4             usda-ndb-import  1489055653  2017-03-09T10:34:13Z   \n",
              "\n",
              "   last_modified_t last_modified_datetime                    product_name  \\\n",
              "0       1474103893   2016-09-17T09:18:13Z              Farine de blé noir   \n",
              "1       1489069957   2017-03-09T14:32:37Z  Banana Chips Sweetened (Whole)   \n",
              "2       1489069957   2017-03-09T14:32:37Z                         Peanuts   \n",
              "3       1489055731   2017-03-09T10:35:31Z          Organic Salted Nut Mix   \n",
              "4       1489055653   2017-03-09T10:34:13Z                 Organic Polenta   \n",
              "\n",
              "  generic_name quantity  ... fruits-vegetables-nuts_100g  \\\n",
              "0          NaN      1kg  ...                         NaN   \n",
              "1          NaN      NaN  ...                         NaN   \n",
              "2          NaN      NaN  ...                         NaN   \n",
              "3          NaN      NaN  ...                         NaN   \n",
              "4          NaN      NaN  ...                         NaN   \n",
              "\n",
              "  fruits-vegetables-nuts-estimate_100g collagen-meat-protein-ratio_100g  \\\n",
              "0                                  NaN                              NaN   \n",
              "1                                  NaN                              NaN   \n",
              "2                                  NaN                              NaN   \n",
              "3                                  NaN                              NaN   \n",
              "4                                  NaN                              NaN   \n",
              "\n",
              "  cocoa_100g chlorophyl_100g carbon-footprint_100g nutrition-score-fr_100g  \\\n",
              "0        NaN             NaN                   NaN                     NaN   \n",
              "1        NaN             NaN                   NaN                    14.0   \n",
              "2        NaN             NaN                   NaN                     0.0   \n",
              "3        NaN             NaN                   NaN                    12.0   \n",
              "4        NaN             NaN                   NaN                     NaN   \n",
              "\n",
              "  nutrition-score-uk_100g glycemic-index_100g water-hardness_100g  \n",
              "0                     NaN                 NaN                 NaN  \n",
              "1                    14.0                 NaN                 NaN  \n",
              "2                     0.0                 NaN                 NaN  \n",
              "3                    12.0                 NaN                 NaN  \n",
              "4                     NaN                 NaN                 NaN  \n",
              "\n",
              "[5 rows x 163 columns]"
            ],
            "text/html": [
              "\n",
              "  <div id=\"df-d65e48d9-015f-4cc7-8335-477cef126cb3\" class=\"colab-df-container\">\n",
              "    <div>\n",
              "<style scoped>\n",
              "    .dataframe tbody tr th:only-of-type {\n",
              "        vertical-align: middle;\n",
              "    }\n",
              "\n",
              "    .dataframe tbody tr th {\n",
              "        vertical-align: top;\n",
              "    }\n",
              "\n",
              "    .dataframe thead th {\n",
              "        text-align: right;\n",
              "    }\n",
              "</style>\n",
              "<table border=\"1\" class=\"dataframe\">\n",
              "  <thead>\n",
              "    <tr style=\"text-align: right;\">\n",
              "      <th></th>\n",
              "      <th>code</th>\n",
              "      <th>url</th>\n",
              "      <th>creator</th>\n",
              "      <th>created_t</th>\n",
              "      <th>created_datetime</th>\n",
              "      <th>last_modified_t</th>\n",
              "      <th>last_modified_datetime</th>\n",
              "      <th>product_name</th>\n",
              "      <th>generic_name</th>\n",
              "      <th>quantity</th>\n",
              "      <th>...</th>\n",
              "      <th>fruits-vegetables-nuts_100g</th>\n",
              "      <th>fruits-vegetables-nuts-estimate_100g</th>\n",
              "      <th>collagen-meat-protein-ratio_100g</th>\n",
              "      <th>cocoa_100g</th>\n",
              "      <th>chlorophyl_100g</th>\n",
              "      <th>carbon-footprint_100g</th>\n",
              "      <th>nutrition-score-fr_100g</th>\n",
              "      <th>nutrition-score-uk_100g</th>\n",
              "      <th>glycemic-index_100g</th>\n",
              "      <th>water-hardness_100g</th>\n",
              "    </tr>\n",
              "  </thead>\n",
              "  <tbody>\n",
              "    <tr>\n",
              "      <th>0</th>\n",
              "      <td>3087</td>\n",
              "      <td>http://world-en.openfoodfacts.org/product/0000...</td>\n",
              "      <td>openfoodfacts-contributors</td>\n",
              "      <td>1474103866</td>\n",
              "      <td>2016-09-17T09:17:46Z</td>\n",
              "      <td>1474103893</td>\n",
              "      <td>2016-09-17T09:18:13Z</td>\n",
              "      <td>Farine de blé noir</td>\n",
              "      <td>NaN</td>\n",
              "      <td>1kg</td>\n",
              "      <td>...</td>\n",
              "      <td>NaN</td>\n",
              "      <td>NaN</td>\n",
              "      <td>NaN</td>\n",
              "      <td>NaN</td>\n",
              "      <td>NaN</td>\n",
              "      <td>NaN</td>\n",
              "      <td>NaN</td>\n",
              "      <td>NaN</td>\n",
              "      <td>NaN</td>\n",
              "      <td>NaN</td>\n",
              "    </tr>\n",
              "    <tr>\n",
              "      <th>1</th>\n",
              "      <td>4530</td>\n",
              "      <td>http://world-en.openfoodfacts.org/product/0000...</td>\n",
              "      <td>usda-ndb-import</td>\n",
              "      <td>1489069957</td>\n",
              "      <td>2017-03-09T14:32:37Z</td>\n",
              "      <td>1489069957</td>\n",
              "      <td>2017-03-09T14:32:37Z</td>\n",
              "      <td>Banana Chips Sweetened (Whole)</td>\n",
              "      <td>NaN</td>\n",
              "      <td>NaN</td>\n",
              "      <td>...</td>\n",
              "      <td>NaN</td>\n",
              "      <td>NaN</td>\n",
              "      <td>NaN</td>\n",
              "      <td>NaN</td>\n",
              "      <td>NaN</td>\n",
              "      <td>NaN</td>\n",
              "      <td>14.0</td>\n",
              "      <td>14.0</td>\n",
              "      <td>NaN</td>\n",
              "      <td>NaN</td>\n",
              "    </tr>\n",
              "    <tr>\n",
              "      <th>2</th>\n",
              "      <td>4559</td>\n",
              "      <td>http://world-en.openfoodfacts.org/product/0000...</td>\n",
              "      <td>usda-ndb-import</td>\n",
              "      <td>1489069957</td>\n",
              "      <td>2017-03-09T14:32:37Z</td>\n",
              "      <td>1489069957</td>\n",
              "      <td>2017-03-09T14:32:37Z</td>\n",
              "      <td>Peanuts</td>\n",
              "      <td>NaN</td>\n",
              "      <td>NaN</td>\n",
              "      <td>...</td>\n",
              "      <td>NaN</td>\n",
              "      <td>NaN</td>\n",
              "      <td>NaN</td>\n",
              "      <td>NaN</td>\n",
              "      <td>NaN</td>\n",
              "      <td>NaN</td>\n",
              "      <td>0.0</td>\n",
              "      <td>0.0</td>\n",
              "      <td>NaN</td>\n",
              "      <td>NaN</td>\n",
              "    </tr>\n",
              "    <tr>\n",
              "      <th>3</th>\n",
              "      <td>16087</td>\n",
              "      <td>http://world-en.openfoodfacts.org/product/0000...</td>\n",
              "      <td>usda-ndb-import</td>\n",
              "      <td>1489055731</td>\n",
              "      <td>2017-03-09T10:35:31Z</td>\n",
              "      <td>1489055731</td>\n",
              "      <td>2017-03-09T10:35:31Z</td>\n",
              "      <td>Organic Salted Nut Mix</td>\n",
              "      <td>NaN</td>\n",
              "      <td>NaN</td>\n",
              "      <td>...</td>\n",
              "      <td>NaN</td>\n",
              "      <td>NaN</td>\n",
              "      <td>NaN</td>\n",
              "      <td>NaN</td>\n",
              "      <td>NaN</td>\n",
              "      <td>NaN</td>\n",
              "      <td>12.0</td>\n",
              "      <td>12.0</td>\n",
              "      <td>NaN</td>\n",
              "      <td>NaN</td>\n",
              "    </tr>\n",
              "    <tr>\n",
              "      <th>4</th>\n",
              "      <td>16094</td>\n",
              "      <td>http://world-en.openfoodfacts.org/product/0000...</td>\n",
              "      <td>usda-ndb-import</td>\n",
              "      <td>1489055653</td>\n",
              "      <td>2017-03-09T10:34:13Z</td>\n",
              "      <td>1489055653</td>\n",
              "      <td>2017-03-09T10:34:13Z</td>\n",
              "      <td>Organic Polenta</td>\n",
              "      <td>NaN</td>\n",
              "      <td>NaN</td>\n",
              "      <td>...</td>\n",
              "      <td>NaN</td>\n",
              "      <td>NaN</td>\n",
              "      <td>NaN</td>\n",
              "      <td>NaN</td>\n",
              "      <td>NaN</td>\n",
              "      <td>NaN</td>\n",
              "      <td>NaN</td>\n",
              "      <td>NaN</td>\n",
              "      <td>NaN</td>\n",
              "      <td>NaN</td>\n",
              "    </tr>\n",
              "  </tbody>\n",
              "</table>\n",
              "<p>5 rows × 163 columns</p>\n",
              "</div>\n",
              "    <div class=\"colab-df-buttons\">\n",
              "\n",
              "  <div class=\"colab-df-container\">\n",
              "    <button class=\"colab-df-convert\" onclick=\"convertToInteractive('df-d65e48d9-015f-4cc7-8335-477cef126cb3')\"\n",
              "            title=\"Convert this dataframe to an interactive table.\"\n",
              "            style=\"display:none;\">\n",
              "\n",
              "  <svg xmlns=\"http://www.w3.org/2000/svg\" height=\"24px\" viewBox=\"0 -960 960 960\">\n",
              "    <path d=\"M120-120v-720h720v720H120Zm60-500h600v-160H180v160Zm220 220h160v-160H400v160Zm0 220h160v-160H400v160ZM180-400h160v-160H180v160Zm440 0h160v-160H620v160ZM180-180h160v-160H180v160Zm440 0h160v-160H620v160Z\"/>\n",
              "  </svg>\n",
              "    </button>\n",
              "\n",
              "  <style>\n",
              "    .colab-df-container {\n",
              "      display:flex;\n",
              "      gap: 12px;\n",
              "    }\n",
              "\n",
              "    .colab-df-convert {\n",
              "      background-color: #E8F0FE;\n",
              "      border: none;\n",
              "      border-radius: 50%;\n",
              "      cursor: pointer;\n",
              "      display: none;\n",
              "      fill: #1967D2;\n",
              "      height: 32px;\n",
              "      padding: 0 0 0 0;\n",
              "      width: 32px;\n",
              "    }\n",
              "\n",
              "    .colab-df-convert:hover {\n",
              "      background-color: #E2EBFA;\n",
              "      box-shadow: 0px 1px 2px rgba(60, 64, 67, 0.3), 0px 1px 3px 1px rgba(60, 64, 67, 0.15);\n",
              "      fill: #174EA6;\n",
              "    }\n",
              "\n",
              "    .colab-df-buttons div {\n",
              "      margin-bottom: 4px;\n",
              "    }\n",
              "\n",
              "    [theme=dark] .colab-df-convert {\n",
              "      background-color: #3B4455;\n",
              "      fill: #D2E3FC;\n",
              "    }\n",
              "\n",
              "    [theme=dark] .colab-df-convert:hover {\n",
              "      background-color: #434B5C;\n",
              "      box-shadow: 0px 1px 3px 1px rgba(0, 0, 0, 0.15);\n",
              "      filter: drop-shadow(0px 1px 2px rgba(0, 0, 0, 0.3));\n",
              "      fill: #FFFFFF;\n",
              "    }\n",
              "  </style>\n",
              "\n",
              "    <script>\n",
              "      const buttonEl =\n",
              "        document.querySelector('#df-d65e48d9-015f-4cc7-8335-477cef126cb3 button.colab-df-convert');\n",
              "      buttonEl.style.display =\n",
              "        google.colab.kernel.accessAllowed ? 'block' : 'none';\n",
              "\n",
              "      async function convertToInteractive(key) {\n",
              "        const element = document.querySelector('#df-d65e48d9-015f-4cc7-8335-477cef126cb3');\n",
              "        const dataTable =\n",
              "          await google.colab.kernel.invokeFunction('convertToInteractive',\n",
              "                                                    [key], {});\n",
              "        if (!dataTable) return;\n",
              "\n",
              "        const docLinkHtml = 'Like what you see? Visit the ' +\n",
              "          '<a target=\"_blank\" href=https://colab.research.google.com/notebooks/data_table.ipynb>data table notebook</a>'\n",
              "          + ' to learn more about interactive tables.';\n",
              "        element.innerHTML = '';\n",
              "        dataTable['output_type'] = 'display_data';\n",
              "        await google.colab.output.renderOutput(dataTable, element);\n",
              "        const docLink = document.createElement('div');\n",
              "        docLink.innerHTML = docLinkHtml;\n",
              "        element.appendChild(docLink);\n",
              "      }\n",
              "    </script>\n",
              "  </div>\n",
              "\n",
              "\n",
              "    <div id=\"df-4b49f844-6ef8-4218-b9f7-cf3eff2a2d55\">\n",
              "      <button class=\"colab-df-quickchart\" onclick=\"quickchart('df-4b49f844-6ef8-4218-b9f7-cf3eff2a2d55')\"\n",
              "                title=\"Suggest charts\"\n",
              "                style=\"display:none;\">\n",
              "\n",
              "<svg xmlns=\"http://www.w3.org/2000/svg\" height=\"24px\"viewBox=\"0 0 24 24\"\n",
              "     width=\"24px\">\n",
              "    <g>\n",
              "        <path d=\"M19 3H5c-1.1 0-2 .9-2 2v14c0 1.1.9 2 2 2h14c1.1 0 2-.9 2-2V5c0-1.1-.9-2-2-2zM9 17H7v-7h2v7zm4 0h-2V7h2v10zm4 0h-2v-4h2v4z\"/>\n",
              "    </g>\n",
              "</svg>\n",
              "      </button>\n",
              "\n",
              "<style>\n",
              "  .colab-df-quickchart {\n",
              "      --bg-color: #E8F0FE;\n",
              "      --fill-color: #1967D2;\n",
              "      --hover-bg-color: #E2EBFA;\n",
              "      --hover-fill-color: #174EA6;\n",
              "      --disabled-fill-color: #AAA;\n",
              "      --disabled-bg-color: #DDD;\n",
              "  }\n",
              "\n",
              "  [theme=dark] .colab-df-quickchart {\n",
              "      --bg-color: #3B4455;\n",
              "      --fill-color: #D2E3FC;\n",
              "      --hover-bg-color: #434B5C;\n",
              "      --hover-fill-color: #FFFFFF;\n",
              "      --disabled-bg-color: #3B4455;\n",
              "      --disabled-fill-color: #666;\n",
              "  }\n",
              "\n",
              "  .colab-df-quickchart {\n",
              "    background-color: var(--bg-color);\n",
              "    border: none;\n",
              "    border-radius: 50%;\n",
              "    cursor: pointer;\n",
              "    display: none;\n",
              "    fill: var(--fill-color);\n",
              "    height: 32px;\n",
              "    padding: 0;\n",
              "    width: 32px;\n",
              "  }\n",
              "\n",
              "  .colab-df-quickchart:hover {\n",
              "    background-color: var(--hover-bg-color);\n",
              "    box-shadow: 0 1px 2px rgba(60, 64, 67, 0.3), 0 1px 3px 1px rgba(60, 64, 67, 0.15);\n",
              "    fill: var(--button-hover-fill-color);\n",
              "  }\n",
              "\n",
              "  .colab-df-quickchart-complete:disabled,\n",
              "  .colab-df-quickchart-complete:disabled:hover {\n",
              "    background-color: var(--disabled-bg-color);\n",
              "    fill: var(--disabled-fill-color);\n",
              "    box-shadow: none;\n",
              "  }\n",
              "\n",
              "  .colab-df-spinner {\n",
              "    border: 2px solid var(--fill-color);\n",
              "    border-color: transparent;\n",
              "    border-bottom-color: var(--fill-color);\n",
              "    animation:\n",
              "      spin 1s steps(1) infinite;\n",
              "  }\n",
              "\n",
              "  @keyframes spin {\n",
              "    0% {\n",
              "      border-color: transparent;\n",
              "      border-bottom-color: var(--fill-color);\n",
              "      border-left-color: var(--fill-color);\n",
              "    }\n",
              "    20% {\n",
              "      border-color: transparent;\n",
              "      border-left-color: var(--fill-color);\n",
              "      border-top-color: var(--fill-color);\n",
              "    }\n",
              "    30% {\n",
              "      border-color: transparent;\n",
              "      border-left-color: var(--fill-color);\n",
              "      border-top-color: var(--fill-color);\n",
              "      border-right-color: var(--fill-color);\n",
              "    }\n",
              "    40% {\n",
              "      border-color: transparent;\n",
              "      border-right-color: var(--fill-color);\n",
              "      border-top-color: var(--fill-color);\n",
              "    }\n",
              "    60% {\n",
              "      border-color: transparent;\n",
              "      border-right-color: var(--fill-color);\n",
              "    }\n",
              "    80% {\n",
              "      border-color: transparent;\n",
              "      border-right-color: var(--fill-color);\n",
              "      border-bottom-color: var(--fill-color);\n",
              "    }\n",
              "    90% {\n",
              "      border-color: transparent;\n",
              "      border-bottom-color: var(--fill-color);\n",
              "    }\n",
              "  }\n",
              "</style>\n",
              "\n",
              "      <script>\n",
              "        async function quickchart(key) {\n",
              "          const quickchartButtonEl =\n",
              "            document.querySelector('#' + key + ' button');\n",
              "          quickchartButtonEl.disabled = true;  // To prevent multiple clicks.\n",
              "          quickchartButtonEl.classList.add('colab-df-spinner');\n",
              "          try {\n",
              "            const charts = await google.colab.kernel.invokeFunction(\n",
              "                'suggestCharts', [key], {});\n",
              "          } catch (error) {\n",
              "            console.error('Error during call to suggestCharts:', error);\n",
              "          }\n",
              "          quickchartButtonEl.classList.remove('colab-df-spinner');\n",
              "          quickchartButtonEl.classList.add('colab-df-quickchart-complete');\n",
              "        }\n",
              "        (() => {\n",
              "          let quickchartButtonEl =\n",
              "            document.querySelector('#df-4b49f844-6ef8-4218-b9f7-cf3eff2a2d55 button');\n",
              "          quickchartButtonEl.style.display =\n",
              "            google.colab.kernel.accessAllowed ? 'block' : 'none';\n",
              "        })();\n",
              "      </script>\n",
              "    </div>\n",
              "\n",
              "    </div>\n",
              "  </div>\n"
            ],
            "application/vnd.google.colaboratory.intrinsic+json": {
              "type": "dataframe",
              "variable_name": "food"
            }
          },
          "metadata": {},
          "execution_count": 11
        }
      ],
      "source": [
        "food.head()"
      ]
    },
    {
      "cell_type": "markdown",
      "metadata": {
        "id": "YlqKi9jebbys"
      },
      "source": [
        "### Step 5. What is the number of observations in the dataset?"
      ]
    },
    {
      "cell_type": "code",
      "execution_count": 12,
      "metadata": {
        "collapsed": true,
        "colab": {
          "base_uri": "https://localhost:8080/"
        },
        "id": "A0oIXWhJbbyt",
        "outputId": "6de358e7-8355-4d76-a307-a98a7008b3ce"
      },
      "outputs": [
        {
          "output_type": "execute_result",
          "data": {
            "text/plain": [
              "6347"
            ]
          },
          "metadata": {},
          "execution_count": 12
        }
      ],
      "source": [
        "food.shape[0]"
      ]
    },
    {
      "cell_type": "markdown",
      "metadata": {
        "id": "KBZVqswqbbyt"
      },
      "source": [
        "### Step 6. What is the number of columns in the dataset?"
      ]
    },
    {
      "cell_type": "code",
      "execution_count": 13,
      "metadata": {
        "collapsed": true,
        "colab": {
          "base_uri": "https://localhost:8080/"
        },
        "id": "Z50nQnNxbbyu",
        "outputId": "5881c6bf-b631-4587-d1de-7c429ea62bcb"
      },
      "outputs": [
        {
          "output_type": "execute_result",
          "data": {
            "text/plain": [
              "163"
            ]
          },
          "metadata": {},
          "execution_count": 13
        }
      ],
      "source": [
        "food.shape[1]"
      ]
    },
    {
      "cell_type": "markdown",
      "metadata": {
        "id": "2MnhxbBFbbyv"
      },
      "source": [
        "### Step 7. Print the name of all the columns."
      ]
    },
    {
      "cell_type": "code",
      "execution_count": 22,
      "metadata": {
        "collapsed": true,
        "colab": {
          "base_uri": "https://localhost:8080/"
        },
        "id": "iYwAabQFbbyv",
        "outputId": "6ebbe94c-670b-4bb5-c6a1-04c65a597482"
      },
      "outputs": [
        {
          "output_type": "execute_result",
          "data": {
            "text/plain": [
              "Index(['code', 'url', 'creator', 'created_t', 'created_datetime',\n",
              "       'last_modified_t', 'last_modified_datetime', 'product_name',\n",
              "       'generic_name', 'quantity',\n",
              "       ...\n",
              "       'fruits-vegetables-nuts_100g', 'fruits-vegetables-nuts-estimate_100g',\n",
              "       'collagen-meat-protein-ratio_100g', 'cocoa_100g', 'chlorophyl_100g',\n",
              "       'carbon-footprint_100g', 'nutrition-score-fr_100g',\n",
              "       'nutrition-score-uk_100g', 'glycemic-index_100g',\n",
              "       'water-hardness_100g'],\n",
              "      dtype='object', length=163)"
            ]
          },
          "metadata": {},
          "execution_count": 22
        }
      ],
      "source": [
        "food.columns"
      ]
    },
    {
      "cell_type": "markdown",
      "metadata": {
        "id": "XNPYSIjFbbyw"
      },
      "source": [
        "### Step 8. What is the name of 105th column?"
      ]
    },
    {
      "cell_type": "code",
      "execution_count": 17,
      "metadata": {
        "collapsed": true,
        "colab": {
          "base_uri": "https://localhost:8080/",
          "height": 36
        },
        "id": "1gNZvdUobbyw",
        "outputId": "1ff90f23-c7aa-4ed3-9471-dac96e158ddb"
      },
      "outputs": [
        {
          "output_type": "execute_result",
          "data": {
            "text/plain": [
              "'-glucose_100g'"
            ],
            "application/vnd.google.colaboratory.intrinsic+json": {
              "type": "string"
            }
          },
          "metadata": {},
          "execution_count": 17
        }
      ],
      "source": [
        "food.columns[104]"
      ]
    },
    {
      "cell_type": "markdown",
      "metadata": {
        "id": "uhz8LmYzbbyw"
      },
      "source": [
        "### Step 9. What is the type of the observations of the 105th column?"
      ]
    },
    {
      "cell_type": "code",
      "execution_count": 18,
      "metadata": {
        "collapsed": true,
        "colab": {
          "base_uri": "https://localhost:8080/"
        },
        "id": "uZsb_-aubby0",
        "outputId": "140afa9a-b792-48c6-cd4c-58cb8e7627f8"
      },
      "outputs": [
        {
          "output_type": "stream",
          "name": "stderr",
          "text": [
            "/tmp/ipython-input-2263273533.py:1: FutureWarning: Series.__getitem__ treating keys as positions is deprecated. In a future version, integer keys will always be treated as labels (consistent with DataFrame behavior). To access a value by position, use `ser.iloc[pos]`\n",
            "  food.dtypes[104]\n"
          ]
        },
        {
          "output_type": "execute_result",
          "data": {
            "text/plain": [
              "dtype('float64')"
            ]
          },
          "metadata": {},
          "execution_count": 18
        }
      ],
      "source": [
        "food.dtypes[104]"
      ]
    },
    {
      "cell_type": "markdown",
      "metadata": {
        "id": "iOyfKgT0bby0"
      },
      "source": [
        "### Step 10. How is the dataset indexed?"
      ]
    },
    {
      "cell_type": "code",
      "execution_count": 19,
      "metadata": {
        "collapsed": true,
        "colab": {
          "base_uri": "https://localhost:8080/"
        },
        "id": "ISYx4lxdbby1",
        "outputId": "fdd47aef-29ab-4332-df4d-3e4ec6c8e2d9"
      },
      "outputs": [
        {
          "output_type": "execute_result",
          "data": {
            "text/plain": [
              "RangeIndex(start=0, stop=6347, step=1)"
            ]
          },
          "metadata": {},
          "execution_count": 19
        }
      ],
      "source": [
        "food.index"
      ]
    },
    {
      "cell_type": "markdown",
      "metadata": {
        "id": "nBKvaDpXbby1"
      },
      "source": [
        "### Step 11. What is the product name of the 19th observation?"
      ]
    },
    {
      "cell_type": "code",
      "execution_count": 23,
      "metadata": {
        "collapsed": true,
        "colab": {
          "base_uri": "https://localhost:8080/",
          "height": 36
        },
        "id": "D_KggA7zbby2",
        "outputId": "35721e3f-26c1-4ccb-b6f1-04c795b9eef5"
      },
      "outputs": [
        {
          "output_type": "execute_result",
          "data": {
            "text/plain": [
              "'Lotus Organic Brown Jasmine Rice'"
            ],
            "application/vnd.google.colaboratory.intrinsic+json": {
              "type": "string"
            }
          },
          "metadata": {},
          "execution_count": 23
        }
      ],
      "source": [
        "food.values[18][7]"
      ]
    },
    {
      "cell_type": "code",
      "source": [],
      "metadata": {
        "id": "Ji52QXjhgzJe"
      },
      "execution_count": null,
      "outputs": []
    }
  ],
  "metadata": {
    "anaconda-cloud": {},
    "kernelspec": {
      "display_name": "Python [default]",
      "language": "python",
      "name": "python2"
    },
    "language_info": {
      "codemirror_mode": {
        "name": "ipython",
        "version": 2
      },
      "file_extension": ".py",
      "mimetype": "text/x-python",
      "name": "python",
      "nbconvert_exporter": "python",
      "pygments_lexer": "ipython2",
      "version": "2.7.12"
    },
    "colab": {
      "provenance": []
    }
  },
  "nbformat": 4,
  "nbformat_minor": 0
}